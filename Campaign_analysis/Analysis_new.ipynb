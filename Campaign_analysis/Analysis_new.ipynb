{
 "cells": [
  {
   "cell_type": "markdown",
   "metadata": {},
   "source": [
    "You've been asked to help the marketing team in increasing performance of their marketing campaign. The team wants to improve campaign targeting. In other words they want to identify customers for which the gain from being contacted is the highest. To establish a proof of concept they provided data from previous campaign for both control and targeted groups, which were selected at random from non-users before the campaign start. Aim of the campaign was to persuade customers to subscribe to the term deposit. The product (term deposit) was available also to the control group (but not marketed).\n",
    "\n",
    "The dataset contains information about direct marketing campaign (phone calls) of a Portuguese banking institution.\n",
    "\n",
    "__Attributes:__<br>\n",
    "\n",
    "__Clients' data:__<br>\n",
    "- __age__ (numeric)<br>\n",
    "- __job:__ type of job (categorical: admin, blue-collar, entrepreneur, housemaid, management, retired, self-employed, services, student, technician, unemployed, unknown) <br>\n",
    "- __marital:__ marital status (categorical: divorced, married, single, unknown; note: divorced means divorced or widowed)<br>\n",
    "- __education__ (categorical: basic.4y, basic.6y, basic.9y, high.school, illiterate, professional.course, university.degree, unknown)<br>\n",
    "- __default:__ has credit in default? (categorical: no, yes, unknown)<br>\n",
    "- __housing:__ has housing loan? (categorical: no, yes, unknown)<br>\n",
    "- __loan:__ has personal loan? (categorical: no, yes, unknown)<br>\n",
    "\n",
    "__Target data:__<br>\n",
    "- __test_control_flag:__ contains information if the person was part of the campaign (campaign group) or control group (control group)<br>\n",
    "- __y:__ has the client subscribed a term deposit?\n",
    "\n",
    "__Data related with the last contact of the current campaign:__<br>\n",
    "- __contact:__ contact communication type (categorical: cellular, telephone)<br>\n",
    "- __month:__ last contact month of year (categorical: jan, feb, mar, ... , nov, dec)<br>\n",
    "- __day_of_week:__ last contact day of the week (categorical: mon,tue, wed,thu, fri)<br>\n",
    "- __duration:__ last contact duration, in seconds (numeric)<br>\n",
    "- __campaign:__ total number of contacts performed during this campaign and for this client (numeric, includes last contact)</br>\n",
    "\n",
    "__Data about previous campaigns:__<br>\n",
    "- __pdays:__ number of days that passed by after the client was last contacted from a previous campaign (numeric; 999 means client was not previously contacted)<br>\n",
    "- __previous:__ number of contacts performed before this campaign and for this client (numeric)<br>\n",
    "- __poutcome:__ outcome of the previous marketing campaign (categorical: failure, nonexistent, success)<br>\n",
    "- __Social and economic context attributes__<br>\n",
    "\n",
    "__Data gathered for the day the day of subscription to the term deposit:__<br>\n",
    "- __emp.var.rate:__ employment variation rate - quarterly indicator (numeric)<br>\n",
    "- __cons.price.idx:__ consumer price index - monthly indicator (numeric)<br>\n",
    "- __cons.conf.idx:__ consumer confidence index - monthly indicator (numeric)\n",
    "- __euribor3m:__ euribor 3 month rate - daily indicator (numeric)<br>\n",
    "- __nr.employed:__ number of employees - quarterly indicator (numeric)<br>"
   ]
  },
  {
   "cell_type": "markdown",
   "metadata": {},
   "source": [
    "## Loading libraries"
   ]
  },
  {
   "cell_type": "code",
   "execution_count": 1,
   "metadata": {},
   "outputs": [],
   "source": [
    "#Importing libraries used in this section\n",
    "import pandas as pd\n",
    "import numpy as np\n",
    "import matplotlib.pyplot as plt\n",
    "%matplotlib inline\n",
    "import seaborn as sns\n",
    "from scipy import stats\n",
    "import warnings\n",
    "warnings.filterwarnings('ignore')\n",
    "pd.set_option('display.max_columns', 22)\n",
    "import random"
   ]
  },
  {
   "cell_type": "markdown",
   "metadata": {},
   "source": [
    "## Loading dataset and exploring"
   ]
  },
  {
   "cell_type": "code",
   "execution_count": 2,
   "metadata": {},
   "outputs": [],
   "source": [
    "df = pd.read_excel(r'.\\bank_data_prediction_task.xlsx',index_col=0)"
   ]
  },
  {
   "cell_type": "code",
   "execution_count": 3,
   "metadata": {},
   "outputs": [
    {
     "data": {
      "text/html": [
       "<div>\n",
       "<style scoped>\n",
       "    .dataframe tbody tr th:only-of-type {\n",
       "        vertical-align: middle;\n",
       "    }\n",
       "\n",
       "    .dataframe tbody tr th {\n",
       "        vertical-align: top;\n",
       "    }\n",
       "\n",
       "    .dataframe thead th {\n",
       "        text-align: right;\n",
       "    }\n",
       "</style>\n",
       "<table border=\"1\" class=\"dataframe\">\n",
       "  <thead>\n",
       "    <tr style=\"text-align: right;\">\n",
       "      <th></th>\n",
       "      <th>age</th>\n",
       "      <th>job</th>\n",
       "      <th>marital</th>\n",
       "      <th>education</th>\n",
       "      <th>default</th>\n",
       "      <th>housing</th>\n",
       "      <th>loan</th>\n",
       "      <th>contact</th>\n",
       "      <th>month</th>\n",
       "      <th>day_of_week</th>\n",
       "      <th>duration</th>\n",
       "      <th>campaign</th>\n",
       "      <th>pdays</th>\n",
       "      <th>previous</th>\n",
       "      <th>poutcome</th>\n",
       "      <th>emp.var.rate</th>\n",
       "      <th>cons.price.idx</th>\n",
       "      <th>cons.conf.idx</th>\n",
       "      <th>euribor3m</th>\n",
       "      <th>nr.employed</th>\n",
       "      <th>y</th>\n",
       "      <th>test_control_flag</th>\n",
       "    </tr>\n",
       "  </thead>\n",
       "  <tbody>\n",
       "    <tr>\n",
       "      <th>1</th>\n",
       "      <td>37</td>\n",
       "      <td>services</td>\n",
       "      <td>married</td>\n",
       "      <td>high.school</td>\n",
       "      <td>no</td>\n",
       "      <td>yes</td>\n",
       "      <td>no</td>\n",
       "      <td>telephone</td>\n",
       "      <td>may</td>\n",
       "      <td>mon</td>\n",
       "      <td>226.0</td>\n",
       "      <td>1.0</td>\n",
       "      <td>999</td>\n",
       "      <td>0</td>\n",
       "      <td>nonexistent</td>\n",
       "      <td>1.1</td>\n",
       "      <td>93.994</td>\n",
       "      <td>-36.4</td>\n",
       "      <td>4.857</td>\n",
       "      <td>5191.0</td>\n",
       "      <td>no</td>\n",
       "      <td>campaign group</td>\n",
       "    </tr>\n",
       "    <tr>\n",
       "      <th>2</th>\n",
       "      <td>45</td>\n",
       "      <td>services</td>\n",
       "      <td>married</td>\n",
       "      <td>basic.9y</td>\n",
       "      <td>unknown</td>\n",
       "      <td>no</td>\n",
       "      <td>no</td>\n",
       "      <td>telephone</td>\n",
       "      <td>may</td>\n",
       "      <td>mon</td>\n",
       "      <td>198.0</td>\n",
       "      <td>1.0</td>\n",
       "      <td>999</td>\n",
       "      <td>0</td>\n",
       "      <td>nonexistent</td>\n",
       "      <td>1.1</td>\n",
       "      <td>93.994</td>\n",
       "      <td>-36.4</td>\n",
       "      <td>4.857</td>\n",
       "      <td>5191.0</td>\n",
       "      <td>no</td>\n",
       "      <td>campaign group</td>\n",
       "    </tr>\n",
       "    <tr>\n",
       "      <th>3</th>\n",
       "      <td>59</td>\n",
       "      <td>admin.</td>\n",
       "      <td>married</td>\n",
       "      <td>professional.course</td>\n",
       "      <td>no</td>\n",
       "      <td>no</td>\n",
       "      <td>no</td>\n",
       "      <td>telephone</td>\n",
       "      <td>may</td>\n",
       "      <td>mon</td>\n",
       "      <td>139.0</td>\n",
       "      <td>1.0</td>\n",
       "      <td>999</td>\n",
       "      <td>0</td>\n",
       "      <td>nonexistent</td>\n",
       "      <td>1.1</td>\n",
       "      <td>93.994</td>\n",
       "      <td>-36.4</td>\n",
       "      <td>4.857</td>\n",
       "      <td>5191.0</td>\n",
       "      <td>no</td>\n",
       "      <td>campaign group</td>\n",
       "    </tr>\n",
       "    <tr>\n",
       "      <th>4</th>\n",
       "      <td>25</td>\n",
       "      <td>services</td>\n",
       "      <td>single</td>\n",
       "      <td>high.school</td>\n",
       "      <td>no</td>\n",
       "      <td>yes</td>\n",
       "      <td>no</td>\n",
       "      <td>telephone</td>\n",
       "      <td>may</td>\n",
       "      <td>mon</td>\n",
       "      <td>50.0</td>\n",
       "      <td>1.0</td>\n",
       "      <td>999</td>\n",
       "      <td>0</td>\n",
       "      <td>nonexistent</td>\n",
       "      <td>1.1</td>\n",
       "      <td>93.994</td>\n",
       "      <td>-36.4</td>\n",
       "      <td>4.857</td>\n",
       "      <td>5191.0</td>\n",
       "      <td>no</td>\n",
       "      <td>campaign group</td>\n",
       "    </tr>\n",
       "    <tr>\n",
       "      <th>5</th>\n",
       "      <td>35</td>\n",
       "      <td>blue-collar</td>\n",
       "      <td>married</td>\n",
       "      <td>basic.6y</td>\n",
       "      <td>no</td>\n",
       "      <td>yes</td>\n",
       "      <td>no</td>\n",
       "      <td>telephone</td>\n",
       "      <td>may</td>\n",
       "      <td>mon</td>\n",
       "      <td>146.0</td>\n",
       "      <td>1.0</td>\n",
       "      <td>999</td>\n",
       "      <td>0</td>\n",
       "      <td>nonexistent</td>\n",
       "      <td>1.1</td>\n",
       "      <td>93.994</td>\n",
       "      <td>-36.4</td>\n",
       "      <td>4.857</td>\n",
       "      <td>5191.0</td>\n",
       "      <td>no</td>\n",
       "      <td>campaign group</td>\n",
       "    </tr>\n",
       "  </tbody>\n",
       "</table>\n",
       "</div>"
      ],
      "text/plain": [
       "   age          job  marital            education  default housing loan  \\\n",
       "1   37     services  married          high.school       no     yes   no   \n",
       "2   45     services  married             basic.9y  unknown      no   no   \n",
       "3   59       admin.  married  professional.course       no      no   no   \n",
       "4   25     services   single          high.school       no     yes   no   \n",
       "5   35  blue-collar  married             basic.6y       no     yes   no   \n",
       "\n",
       "     contact month day_of_week  duration  campaign  pdays  previous  \\\n",
       "1  telephone   may         mon     226.0       1.0    999         0   \n",
       "2  telephone   may         mon     198.0       1.0    999         0   \n",
       "3  telephone   may         mon     139.0       1.0    999         0   \n",
       "4  telephone   may         mon      50.0       1.0    999         0   \n",
       "5  telephone   may         mon     146.0       1.0    999         0   \n",
       "\n",
       "      poutcome  emp.var.rate  cons.price.idx  cons.conf.idx  euribor3m  \\\n",
       "1  nonexistent           1.1          93.994          -36.4      4.857   \n",
       "2  nonexistent           1.1          93.994          -36.4      4.857   \n",
       "3  nonexistent           1.1          93.994          -36.4      4.857   \n",
       "4  nonexistent           1.1          93.994          -36.4      4.857   \n",
       "5  nonexistent           1.1          93.994          -36.4      4.857   \n",
       "\n",
       "   nr.employed   y test_control_flag  \n",
       "1       5191.0  no    campaign group  \n",
       "2       5191.0  no    campaign group  \n",
       "3       5191.0  no    campaign group  \n",
       "4       5191.0  no    campaign group  \n",
       "5       5191.0  no    campaign group  "
      ]
     },
     "execution_count": 3,
     "metadata": {},
     "output_type": "execute_result"
    }
   ],
   "source": [
    "df.head()"
   ]
  },
  {
   "cell_type": "code",
   "execution_count": 4,
   "metadata": {},
   "outputs": [
    {
     "data": {
      "text/plain": [
       "no     37048\n",
       "yes     4140\n",
       "Name: y, dtype: int64"
      ]
     },
     "execution_count": 4,
     "metadata": {},
     "output_type": "execute_result"
    }
   ],
   "source": [
    "#Checking proportion values in Y column\n",
    "df.y.value_counts()"
   ]
  },
  {
   "cell_type": "markdown",
   "metadata": {},
   "source": [
    "As we can see we're dealing with imbalanced dataset. Ther are significantly more cases where clinets do not converted."
   ]
  },
  {
   "cell_type": "code",
   "execution_count": 5,
   "metadata": {},
   "outputs": [],
   "source": [
    "#Changing string values to 0-1 to display proportions of Y values in campaign and control group\n",
    "df.y.replace(('no','yes'), (0,1), inplace=True)"
   ]
  },
  {
   "cell_type": "code",
   "execution_count": 6,
   "metadata": {},
   "outputs": [
    {
     "data": {
      "text/html": [
       "<div>\n",
       "<style scoped>\n",
       "    .dataframe tbody tr th:only-of-type {\n",
       "        vertical-align: middle;\n",
       "    }\n",
       "\n",
       "    .dataframe tbody tr th {\n",
       "        vertical-align: top;\n",
       "    }\n",
       "\n",
       "    .dataframe thead th {\n",
       "        text-align: right;\n",
       "    }\n",
       "</style>\n",
       "<table border=\"1\" class=\"dataframe\">\n",
       "  <thead>\n",
       "    <tr style=\"text-align: right;\">\n",
       "      <th></th>\n",
       "      <th>y</th>\n",
       "      <th>total</th>\n",
       "      <th>rate</th>\n",
       "    </tr>\n",
       "    <tr>\n",
       "      <th>test_control_flag</th>\n",
       "      <th></th>\n",
       "      <th></th>\n",
       "      <th></th>\n",
       "    </tr>\n",
       "  </thead>\n",
       "  <tbody>\n",
       "    <tr>\n",
       "      <th>campaign group</th>\n",
       "      <td>1856</td>\n",
       "      <td>16476</td>\n",
       "      <td>0.112649</td>\n",
       "    </tr>\n",
       "    <tr>\n",
       "      <th>control group</th>\n",
       "      <td>2284</td>\n",
       "      <td>24712</td>\n",
       "      <td>0.092425</td>\n",
       "    </tr>\n",
       "  </tbody>\n",
       "</table>\n",
       "</div>"
      ],
      "text/plain": [
       "                      y  total      rate\n",
       "test_control_flag                       \n",
       "campaign group     1856  16476  0.112649\n",
       "control group      2284  24712  0.092425"
      ]
     },
     "execution_count": 6,
     "metadata": {},
     "output_type": "execute_result"
    }
   ],
   "source": [
    "y_sum = df.pivot_table(values='y', index='test_control_flag', aggfunc=np.sum)\n",
    "y_sum['total'] = df.pivot_table(values='y', index='test_control_flag', aggfunc=lambda x: len(x))\n",
    "y_sum['rate'] = df.pivot_table(values='y', index='test_control_flag')\n",
    "y_sum"
   ]
  },
  {
   "cell_type": "code",
   "execution_count": 7,
   "metadata": {},
   "outputs": [],
   "source": [
    "#Splitting dataset into two separate subsets to handle with them separately\n",
    "control_gp = df[df.test_control_flag == 'control group']\n",
    "campaign_gp = df[df.test_control_flag == 'campaign group']"
   ]
  },
  {
   "cell_type": "markdown",
   "metadata": {},
   "source": [
    "#### Comparing two groups to check if the Campaing group is significantly better"
   ]
  },
  {
   "cell_type": "code",
   "execution_count": 8,
   "metadata": {},
   "outputs": [
    {
     "data": {
      "text/plain": [
       "1.5"
      ]
     },
     "execution_count": 8,
     "metadata": {},
     "output_type": "execute_result"
    }
   ],
   "source": [
    "#Checking proportion one group to the other if one is not large\n",
    "round(len(control_gp)/len(campaign_gp),1)"
   ]
  },
  {
   "cell_type": "markdown",
   "metadata": {},
   "source": [
    "Choosing statictical test for testing groups: \n",
    "https://bloomingtontutors.com/blog/when-to-use-the-z-test-versus-t-test <br>\n",
    "I followed the path that:\n",
    "- means - trying to compare\n",
    "- n >= 30 - number of observations are greather than 30\n",
    "- standard devation of the population is not known\n",
    "\n",
    "So to use t-Test we need to find out if:\n",
    "- randomly selected portion of the total population - this is confirmed from the text of this case\n",
    "- large sample size - this is confirmed by sizes of the dataset, larger than 30\n",
    "- distribution approach a normal bell-shaped curve\n",
    "- homogeneity of variance\n",
    "\n",
    "So I need to check last two assumptions."
   ]
  },
  {
   "cell_type": "markdown",
   "metadata": {},
   "source": [
    "#### Creating function for generating distribution of y and plotting outcomes for Control and Campaign groups"
   ]
  },
  {
   "cell_type": "code",
   "execution_count": 9,
   "metadata": {},
   "outputs": [],
   "source": [
    "sample = 100 #sample size\n",
    "rounds = 30000 #number of rounds of generated sample means\n",
    "cont_num_norm = []\n",
    "x1=0\n",
    "\n",
    "while x1 < rounds:\n",
    "    avg = (sum(random.sample(list(control_gp.y),sample))/sample)\n",
    "    cont_num_norm.append(avg)\n",
    "    x1+=1"
   ]
  },
  {
   "cell_type": "code",
   "execution_count": 10,
   "metadata": {},
   "outputs": [],
   "source": [
    "camp_num_norm = []\n",
    "x2=0\n",
    "\n",
    "while x2 < rounds:\n",
    "    avg = (sum(random.sample(list(campaign_gp.y),sample))/sample)\n",
    "    camp_num_norm.append(avg)\n",
    "    x2+=1"
   ]
  },
  {
   "cell_type": "code",
   "execution_count": 11,
   "metadata": {},
   "outputs": [
    {
     "data": {
      "text/plain": [
       "Text(0.5, 1.0, 'Distribution plot of Control group')"
      ]
     },
     "execution_count": 11,
     "metadata": {},
     "output_type": "execute_result"
    },
    {
     "data": {
      "image/png": "[encoded data removed]",
      "text/plain": [
       "<Figure size 432x288 with 1 Axes>"
      ]
     },
     "metadata": {
      "needs_background": "light"
     },
     "output_type": "display_data"
    }
   ],
   "source": [
    "bins = 25\n",
    "sns.distplot(cont_num_norm, hist=True, kde=True, \n",
    "             bins=bins, color = 'darkblue', \n",
    "             hist_kws={'edgecolor':'black'},\n",
    "             kde_kws={'linewidth': 4})\n",
    "plt.title('Distribution plot of Control group')"
   ]
  },
  {
   "cell_type": "code",
   "execution_count": 12,
   "metadata": {},
   "outputs": [
    {
     "data": {
      "text/plain": [
       "Text(0.5, 1.0, 'Distribution plot of Campaign group')"
      ]
     },
     "execution_count": 12,
     "metadata": {},
     "output_type": "execute_result"
    },
    {
     "data": {
      "image/png": "[encoded data removed]",
      "text/plain": [
       "<Figure size 432x288 with 1 Axes>"
      ]
     },
     "metadata": {
      "needs_background": "light"
     },
     "output_type": "display_data"
    }
   ],
   "source": [
    "sns.distplot(camp_num_norm, hist=True, kde=True, \n",
    "             bins=bins, color = 'darkblue', \n",
    "             hist_kws={'edgecolor':'black'},\n",
    "             kde_kws={'linewidth': 4})\n",
    "plt.title('Distribution plot of Campaign group')"
   ]
  },
  {
   "cell_type": "markdown",
   "metadata": {},
   "source": [
    "Distributions plots seem to look like bell-curved plots.\n",
    "Also it could be seen that the Campaign distribution plot is slightly moved to the right in comparison to the distribution plot of the Control group, which can implicate that conversion rate mean of the Campaign group is larger. "
   ]
  },
  {
   "cell_type": "markdown",
   "metadata": {},
   "source": [
    "#### Testing the assumption of equal variances in those two groups "
   ]
  },
  {
   "cell_type": "markdown",
   "metadata": {},
   "source": [
    "_HO_ - variances are euqal <br>\n",
    "_H1_ - variances are not equal\n",
    "\n",
    "alpha = 0.05\n",
    "\n",
    "For this I will use Levene's test which is build in Scipy library."
   ]
  },
  {
   "cell_type": "code",
   "execution_count": 13,
   "metadata": {},
   "outputs": [
    {
     "name": "stdout",
     "output_type": "stream",
     "text": [
      "Levene p-value: 2.2487646433862037e-11\n"
     ]
    }
   ],
   "source": [
    "L, pl = stats.levene(control_gp.y,campaign_gp.y)\n",
    "print('Levene p-value:', pl)"
   ]
  },
  {
   "cell_type": "markdown",
   "metadata": {},
   "source": [
    "As we can see p-value is lower than our threshold so the variances are not equal. Performing t-student test by it assumptions (homogeneity of variances) is not applicable. So we need to perform Welch's t-test which does not assume equal population variance."
   ]
  },
  {
   "cell_type": "markdown",
   "metadata": {},
   "source": [
    "We have two independent groups which are randomly chosen. \n",
    "So we want to compare if the difference in rates (people who subscribed to the terms) is significant. "
   ]
  },
  {
   "cell_type": "markdown",
   "metadata": {},
   "source": [
    "- _H0_ - null hypothesis that means of the two groups are equal\n",
    "- _H1_ - alternative hypothesis that mean of second group (campaign group) is higher\n",
    "\n",
    "alpha = 0.05"
   ]
  },
  {
   "cell_type": "code",
   "execution_count": 14,
   "metadata": {},
   "outputs": [
    {
     "name": "stdout",
     "output_type": "stream",
     "text": [
      "Welch's p_value: 4.9462372927074655e-11\n"
     ]
    }
   ],
   "source": [
    "# ttest_ind, has attribution equal_val which switched to the FALSE performs Welch's test\n",
    "sw, pw = stats.ttest_ind(control_gp.y,campaign_gp.y,equal_var=False) \n",
    "print(\"Welch's p_value:\", pw)"
   ]
  },
  {
   "cell_type": "markdown",
   "metadata": {},
   "source": [
    "W alpha = 0.05, p-value is very small so we can reject the null hypothesis and accept the alternative hypothesis that mean is higher."
   ]
  },
  {
   "cell_type": "markdown",
   "metadata": {},
   "source": [
    "For further exploration and modeling, I'm choosing to take care only about the campaign group because I will be comparing results from this group to the Machine Learning outputs."
   ]
  },
  {
   "cell_type": "markdown",
   "metadata": {},
   "source": [
    "## Preparing dataset for visualization"
   ]
  },
  {
   "cell_type": "code",
   "execution_count": 15,
   "metadata": {},
   "outputs": [
    {
     "data": {
      "text/plain": [
       "age                  0\n",
       "job                  0\n",
       "marital              0\n",
       "education            0\n",
       "default              0\n",
       "housing              0\n",
       "loan                 0\n",
       "contact              0\n",
       "month                0\n",
       "day_of_week          0\n",
       "duration             0\n",
       "campaign             0\n",
       "pdays                0\n",
       "previous             0\n",
       "poutcome             0\n",
       "emp.var.rate         0\n",
       "cons.price.idx       0\n",
       "cons.conf.idx        0\n",
       "euribor3m            0\n",
       "nr.employed          0\n",
       "y                    0\n",
       "test_control_flag    0\n",
       "dtype: int64"
      ]
     },
     "execution_count": 15,
     "metadata": {},
     "output_type": "execute_result"
    }
   ],
   "source": [
    "#Checking for nulls\n",
    "campaign_gp.isnull().sum()"
   ]
  },
  {
   "cell_type": "markdown",
   "metadata": {},
   "source": [
    "Now I am displaying info about campaign dataset structure to change Dtypes from object to categories variables for decreasing memory usage."
   ]
  },
  {
   "cell_type": "code",
   "execution_count": 16,
   "metadata": {},
   "outputs": [
    {
     "name": "stdout",
     "output_type": "stream",
     "text": [
      "<class 'pandas.core.frame.DataFrame'>\n",
      "Int64Index: 16476 entries, 1 to 16476\n",
      "Data columns (total 22 columns):\n",
      " #   Column             Non-Null Count  Dtype  \n",
      "---  ------             --------------  -----  \n",
      " 0   age                16476 non-null  int64  \n",
      " 1   job                16476 non-null  object \n",
      " 2   marital            16476 non-null  object \n",
      " 3   education          16476 non-null  object \n",
      " 4   default            16476 non-null  object \n",
      " 5   housing            16476 non-null  object \n",
      " 6   loan               16476 non-null  object \n",
      " 7   contact            16476 non-null  object \n",
      " 8   month              16476 non-null  object \n",
      " 9   day_of_week        16476 non-null  object \n",
      " 10  duration           16476 non-null  float64\n",
      " 11  campaign           16476 non-null  float64\n",
      " 12  pdays              16476 non-null  int64  \n",
      " 13  previous           16476 non-null  int64  \n",
      " 14  poutcome           16476 non-null  object \n",
      " 15  emp.var.rate       16476 non-null  float64\n",
      " 16  cons.price.idx     16476 non-null  float64\n",
      " 17  cons.conf.idx      16476 non-null  float64\n",
      " 18  euribor3m          16476 non-null  float64\n",
      " 19  nr.employed        16476 non-null  float64\n",
      " 20  y                  16476 non-null  int64  \n",
      " 21  test_control_flag  16476 non-null  object \n",
      "dtypes: float64(7), int64(4), object(11)\n",
      "memory usage: 2.9+ MB\n"
     ]
    }
   ],
   "source": [
    "campaign_gp.info()"
   ]
  },
  {
   "cell_type": "code",
   "execution_count": 17,
   "metadata": {},
   "outputs": [
    {
     "name": "stdout",
     "output_type": "stream",
     "text": [
      "['job', 'marital', 'education', 'default', 'housing', 'loan', 'contact', 'month', 'day_of_week', 'poutcome', 'test_control_flag']\n"
     ]
    }
   ],
   "source": [
    "#Iterating through the names of the columns\n",
    "obj_col = []\n",
    "for col in campaign_gp.columns:\n",
    "    if str(campaign_gp[col].dtype) == 'object':\n",
    "        obj_col.append(col)\n",
    "    else:\n",
    "        continue\n",
    "print(obj_col)"
   ]
  },
  {
   "cell_type": "code",
   "execution_count": 18,
   "metadata": {},
   "outputs": [],
   "source": [
    "#Changing the columns types to category\n",
    "for col in obj_col:\n",
    "    campaign_gp[col] = campaign_gp[col].astype('category')"
   ]
  },
  {
   "cell_type": "code",
   "execution_count": 19,
   "metadata": {},
   "outputs": [
    {
     "name": "stdout",
     "output_type": "stream",
     "text": [
      "<class 'pandas.core.frame.DataFrame'>\n",
      "Int64Index: 16476 entries, 1 to 16476\n",
      "Data columns (total 22 columns):\n",
      " #   Column             Non-Null Count  Dtype   \n",
      "---  ------             --------------  -----   \n",
      " 0   age                16476 non-null  int64   \n",
      " 1   job                16476 non-null  category\n",
      " 2   marital            16476 non-null  category\n",
      " 3   education          16476 non-null  category\n",
      " 4   default            16476 non-null  category\n",
      " 5   housing            16476 non-null  category\n",
      " 6   loan               16476 non-null  category\n",
      " 7   contact            16476 non-null  category\n",
      " 8   month              16476 non-null  category\n",
      " 9   day_of_week        16476 non-null  category\n",
      " 10  duration           16476 non-null  float64 \n",
      " 11  campaign           16476 non-null  float64 \n",
      " 12  pdays              16476 non-null  int64   \n",
      " 13  previous           16476 non-null  int64   \n",
      " 14  poutcome           16476 non-null  category\n",
      " 15  emp.var.rate       16476 non-null  float64 \n",
      " 16  cons.price.idx     16476 non-null  float64 \n",
      " 17  cons.conf.idx      16476 non-null  float64 \n",
      " 18  euribor3m          16476 non-null  float64 \n",
      " 19  nr.employed        16476 non-null  float64 \n",
      " 20  y                  16476 non-null  int64   \n",
      " 21  test_control_flag  16476 non-null  category\n",
      "dtypes: category(11), float64(7), int64(4)\n",
      "memory usage: 1.7 MB\n"
     ]
    }
   ],
   "source": [
    "campaign_gp.info()"
   ]
  },
  {
   "cell_type": "markdown",
   "metadata": {},
   "source": [
    "Memory decreased from 2.9+ MB to 1.7 MB."
   ]
  },
  {
   "cell_type": "code",
   "execution_count": 20,
   "metadata": {
    "scrolled": false
   },
   "outputs": [
    {
     "data": {
      "text/plain": [
       "<Figure size 720x432 with 0 Axes>"
      ]
     },
     "metadata": {},
     "output_type": "display_data"
    },
    {
     "data": {
      "image/png": "[encoded data removed]",
      "text/plain": [
       "<Figure size 720x432 with 1 Axes>"
      ]
     },
     "metadata": {
      "needs_background": "light"
     },
     "output_type": "display_data"
    },
    {
     "data": {
      "image/png": "[encoded data removed]",
      "text/plain": [
       "<Figure size 720x432 with 1 Axes>"
      ]
     },
     "metadata": {
      "needs_background": "light"
     },
     "output_type": "display_data"
    },
    {
     "data": {
      "image/png": "[encoded data removed]",
      "text/plain": [
       "<Figure size 720x432 with 1 Axes>"
      ]
     },
     "metadata": {
      "needs_background": "light"
     },
     "output_type": "display_data"
    },
    {
     "data": {
      "image/png": "[encoded data removed]",
      "text/plain": [
       "<Figure size 720x432 with 1 Axes>"
      ]
     },
     "metadata": {
      "needs_background": "light"
     },
     "output_type": "display_data"
    },
    {
     "data": {
      "image/png": "[encoded data removed]",
      "text/plain": [
       "<Figure size 720x432 with 1 Axes>"
      ]
     },
     "metadata": {
      "needs_background": "light"
     },
     "output_type": "display_data"
    },
    {
     "data": {
      "image/png": "[encoded data removed]",
      "text/plain": [
       "<Figure size 720x432 with 1 Axes>"
      ]
     },
     "metadata": {
      "needs_background": "light"
     },
     "output_type": "display_data"
    },
    {
     "data": {
      "image/png": "[encoded data removed]",
      "text/plain": [
       "<Figure size 720x432 with 1 Axes>"
      ]
     },
     "metadata": {
      "needs_background": "light"
     },
     "output_type": "display_data"
    },
    {
     "data": {
      "image/png": "[encoded data removed]",
      "text/plain": [
       "<Figure size 720x432 with 1 Axes>"
      ]
     },
     "metadata": {
      "needs_background": "light"
     },
     "output_type": "display_data"
    },
    {
     "data": {
      "image/png": "[encoded data removed]",
      "text/plain": [
       "<Figure size 720x432 with 1 Axes>"
      ]
     },
     "metadata": {
      "needs_background": "light"
     },
     "output_type": "display_data"
    },
    {
     "data": {
      "text/plain": [
       "<Figure size 720x432 with 0 Axes>"
      ]
     },
     "metadata": {},
     "output_type": "display_data"
    },
    {
     "data": {
      "text/plain": [
       "<Figure size 720x432 with 0 Axes>"
      ]
     },
     "metadata": {},
     "output_type": "display_data"
    },
    {
     "data": {
      "text/plain": [
       "<Figure size 720x432 with 0 Axes>"
      ]
     },
     "metadata": {},
     "output_type": "display_data"
    },
    {
     "data": {
      "text/plain": [
       "<Figure size 720x432 with 0 Axes>"
      ]
     },
     "metadata": {},
     "output_type": "display_data"
    },
    {
     "data": {
      "image/png": "[encoded data removed]",
      "text/plain": [
       "<Figure size 720x432 with 1 Axes>"
      ]
     },
     "metadata": {
      "needs_background": "light"
     },
     "output_type": "display_data"
    },
    {
     "data": {
      "text/plain": [
       "<Figure size 720x432 with 0 Axes>"
      ]
     },
     "metadata": {},
     "output_type": "display_data"
    },
    {
     "data": {
      "text/plain": [
       "<Figure size 720x432 with 0 Axes>"
      ]
     },
     "metadata": {},
     "output_type": "display_data"
    },
    {
     "data": {
      "text/plain": [
       "<Figure size 720x432 with 0 Axes>"
      ]
     },
     "metadata": {},
     "output_type": "display_data"
    },
    {
     "data": {
      "text/plain": [
       "<Figure size 720x432 with 0 Axes>"
      ]
     },
     "metadata": {},
     "output_type": "display_data"
    },
    {
     "data": {
      "text/plain": [
       "<Figure size 720x432 with 0 Axes>"
      ]
     },
     "metadata": {},
     "output_type": "display_data"
    },
    {
     "data": {
      "text/plain": [
       "<Figure size 720x432 with 0 Axes>"
      ]
     },
     "metadata": {},
     "output_type": "display_data"
    },
    {
     "data": {
      "text/plain": [
       "<Figure size 720x432 with 0 Axes>"
      ]
     },
     "metadata": {},
     "output_type": "display_data"
    }
   ],
   "source": [
    "#Creating fast plots for categorical type to have a glimpse into the data, because Pairpolt from Seaborn is unreadable, with this dataset\n",
    "for col in campaign_gp.columns:\n",
    "    plt.figure(figsize=(10,6))\n",
    "    if (str(campaign_gp[col].dtype) == 'category') & (col != 'test_control_flag'):\n",
    "        ax = campaign_gp[col].value_counts().plot(kind='bar',title=col,grid=True)\n",
    "        for p in ax.patches:\n",
    "            ax.annotate(str(format(int(p.get_height()), ',d')), (p.get_x(), p.get_height()*1.02))\n",
    "        plt.show()\n",
    "    else:\n",
    "        continue"
   ]
  },
  {
   "cell_type": "markdown",
   "metadata": {},
   "source": [
    "#### Assumptions for future calcultaions and plotting"
   ]
  },
  {
   "cell_type": "markdown",
   "metadata": {},
   "source": [
    "Monthly cost of Call Center consultant = 4000 PLN <br>\n",
    "https://interviewme.pl/blog/praca-w-call-center <br>\n",
    "Mean of working hours per month = 167 <br>\n",
    "https://inewi.pl/Blog/liczba-godzin-pracy-w-miesiacu-jak-wyliczyc-wymiar-czasu-pracy- <br>\n",
    "Cost per minute = 0.4"
   ]
  },
  {
   "cell_type": "code",
   "execution_count": 21,
   "metadata": {},
   "outputs": [],
   "source": [
    "#Changing seconds to minutes\n",
    "campaign_gp.duration = campaign_gp.duration/60 \n",
    "\n",
    "#Rounding up because consultant spends some on dialing number, making notes, breaks etc.\n",
    "campaign_gp.duration = campaign_gp.duration.apply(np.ceil) \n",
    "\n",
    "cost_price = 0.4\n",
    "income_price = 30 #Estimating income from subscription\n",
    "\n",
    "#Calculating cost of the call and income per subscription\n",
    "campaign_gp['call_cost'] = campaign_gp.duration * cost_price\n",
    "campaign_gp['income'] = campaign_gp.y * income_price"
   ]
  },
  {
   "cell_type": "code",
   "execution_count": 22,
   "metadata": {},
   "outputs": [
    {
     "name": "stdout",
     "output_type": "stream",
     "text": [
      "Total cost: 31,814.4 \n",
      "Total revenue: 55,680 \n",
      "ROI: 75.0 %\n"
     ]
    }
   ],
   "source": [
    "#Calculting sum of costs and incomes\n",
    "call_cost_sum = campaign_gp.call_cost.sum()\n",
    "incom_sum = campaign_gp.income.sum()\n",
    "\n",
    "#Calculating rate Return of Investment\n",
    "ROI = (incom_sum-call_cost_sum)/call_cost_sum\n",
    "\n",
    "print(\"Total cost:\",f\"{call_cost_sum:,}\", \n",
    "      \"\\nTotal revenue:\", f\"{incom_sum:,}\",\n",
    "    \"\\nROI:\",round(ROI,2)*100,\"%\")"
   ]
  },
  {
   "cell_type": "markdown",
   "metadata": {},
   "source": [
    "## Plotting with estimated costs and revenue"
   ]
  },
  {
   "cell_type": "markdown",
   "metadata": {},
   "source": [
    "##### Job"
   ]
  },
  {
   "cell_type": "code",
   "execution_count": 23,
   "metadata": {},
   "outputs": [],
   "source": [
    "job_inc = campaign_gp.groupby('job').income.sum()\n",
    "job_cost = campaign_gp.groupby('job').call_cost.sum()\n",
    "job_rev = job_inc - job_cost\n",
    "job_ROI = (job_inc - job_cost)/job_cost"
   ]
  },
  {
   "cell_type": "code",
   "execution_count": 24,
   "metadata": {},
   "outputs": [
    {
     "data": {
      "image/png": "[encoded data removed]",
      "text/plain": [
       "<Figure size 720x432 with 2 Axes>"
      ]
     },
     "metadata": {
      "needs_background": "light"
     },
     "output_type": "display_data"
    }
   ],
   "source": [
    "fig, axes = plt.subplots(nrows=1, ncols=2,sharey='row',figsize = (10,6))\n",
    "job_inc.plot(ax=axes[0],kind='bar',title='Income',grid=True)\n",
    "job_rev.plot(ax=axes[1],kind='bar',title='Revenue',grid=True)\n",
    "plt.tight_layout();"
   ]
  },
  {
   "cell_type": "code",
   "execution_count": 25,
   "metadata": {},
   "outputs": [
    {
     "data": {
      "image/png": "[encoded data removed]",
      "text/plain": [
       "<Figure size 432x288 with 1 Axes>"
      ]
     },
     "metadata": {
      "needs_background": "light"
     },
     "output_type": "display_data"
    }
   ],
   "source": [
    "job_ROI.plot(kind='bar',title='ROI',grid=True);"
   ]
  },
  {
   "cell_type": "markdown",
   "metadata": {},
   "source": [
    "As we can see on ROI graph, best target job groups are students and retired. Administration group generates the highest income but also requires a lot of effort."
   ]
  },
  {
   "cell_type": "markdown",
   "metadata": {},
   "source": [
    "##### Marital"
   ]
  },
  {
   "cell_type": "code",
   "execution_count": 26,
   "metadata": {},
   "outputs": [],
   "source": [
    "mart_inc = campaign_gp.groupby('marital').income.sum()\n",
    "mart_cost = campaign_gp.groupby('marital').call_cost.sum()\n",
    "mart_rev = mart_inc - mart_cost\n",
    "mart_ROI = (mart_inc - mart_cost)/mart_cost"
   ]
  },
  {
   "cell_type": "code",
   "execution_count": 27,
   "metadata": {},
   "outputs": [
    {
     "data": {
      "image/png": "[encoded data removed]",
      "text/plain": [
       "<Figure size 720x432 with 2 Axes>"
      ]
     },
     "metadata": {
      "needs_background": "light"
     },
     "output_type": "display_data"
    }
   ],
   "source": [
    "fig, axes = plt.subplots(nrows=1, ncols=2,sharey='row',figsize = (10,6))\n",
    "mart_inc.plot(ax=axes[0],kind='bar',title='Income',grid=True)\n",
    "mart_rev.plot(ax=axes[1],kind='bar',title='Revenue',grid=True)\n",
    "plt.tight_layout();"
   ]
  },
  {
   "cell_type": "code",
   "execution_count": 28,
   "metadata": {},
   "outputs": [
    {
     "data": {
      "image/png": "[encoded data removed]",
      "text/plain": [
       "<Figure size 432x288 with 1 Axes>"
      ]
     },
     "metadata": {
      "needs_background": "light"
     },
     "output_type": "display_data"
    }
   ],
   "source": [
    "mart_ROI.plot(kind='bar',title='ROI',grid=True);"
   ]
  },
  {
   "cell_type": "markdown",
   "metadata": {},
   "source": [
    "On the ROI graph, we can see that the unknown group is pretty impressive but its part overall is insignificant (Revenue graph)."
   ]
  },
  {
   "cell_type": "markdown",
   "metadata": {},
   "source": [
    "##### Education"
   ]
  },
  {
   "cell_type": "code",
   "execution_count": 29,
   "metadata": {},
   "outputs": [],
   "source": [
    "edu_inc = campaign_gp.groupby('education').income.sum()\n",
    "edu_cost = campaign_gp.groupby('education').call_cost.sum()\n",
    "edu_rev = edu_inc - edu_cost\n",
    "edu_ROI = (edu_inc - edu_cost)/edu_cost"
   ]
  },
  {
   "cell_type": "code",
   "execution_count": 30,
   "metadata": {},
   "outputs": [
    {
     "data": {
      "image/png": "[encoded data removed]",
      "text/plain": [
       "<Figure size 720x432 with 2 Axes>"
      ]
     },
     "metadata": {
      "needs_background": "light"
     },
     "output_type": "display_data"
    }
   ],
   "source": [
    "fig, axes = plt.subplots(nrows=1, ncols=2,sharey='row',figsize = (10,6))\n",
    "edu_inc.plot(ax=axes[0],kind='bar',title='Income',grid=True)\n",
    "edu_rev.plot(ax=axes[1],kind='bar',title='Revenue',grid=True)\n",
    "plt.tight_layout();"
   ]
  },
  {
   "cell_type": "code",
   "execution_count": 31,
   "metadata": {},
   "outputs": [
    {
     "data": {
      "image/png": "[encoded data removed]",
      "text/plain": [
       "<Figure size 432x288 with 1 Axes>"
      ]
     },
     "metadata": {
      "needs_background": "light"
     },
     "output_type": "display_data"
    }
   ],
   "source": [
    "edu_ROI.plot(kind='bar',title='ROI',grid=True);"
   ]
  },
  {
   "cell_type": "markdown",
   "metadata": {},
   "source": [
    "The illiterate group has a high ROI rate but its revenue is minor."
   ]
  },
  {
   "cell_type": "code",
   "execution_count": 32,
   "metadata": {},
   "outputs": [
    {
     "name": "stdout",
     "output_type": "stream",
     "text": [
      "Illiterate Revenue: 50.4\n"
     ]
    }
   ],
   "source": [
    "print(\"Illiterate Revenue:\", edu_rev.loc['illiterate'])"
   ]
  },
  {
   "cell_type": "markdown",
   "metadata": {},
   "source": [
    "##### Default - credit"
   ]
  },
  {
   "cell_type": "code",
   "execution_count": 33,
   "metadata": {},
   "outputs": [],
   "source": [
    "def_inc = campaign_gp.groupby('default').income.sum()\n",
    "def_cost = campaign_gp.groupby('default').call_cost.sum()\n",
    "def_rev = def_inc - def_cost\n",
    "def_ROI = (def_inc - def_cost)/def_cost"
   ]
  },
  {
   "cell_type": "code",
   "execution_count": 34,
   "metadata": {},
   "outputs": [
    {
     "data": {
      "image/png": "[encoded data removed]",
      "text/plain": [
       "<Figure size 720x432 with 2 Axes>"
      ]
     },
     "metadata": {
      "needs_background": "light"
     },
     "output_type": "display_data"
    }
   ],
   "source": [
    "fig, axes = plt.subplots(nrows=1, ncols=2,sharey='row',figsize = (10,6))\n",
    "def_inc.plot(ax=axes[0],kind='bar',title='Income',grid=True)\n",
    "def_rev.plot(ax=axes[1],kind='bar',title='Revenue',grid=True)\n",
    "plt.tight_layout();"
   ]
  },
  {
   "cell_type": "code",
   "execution_count": 36,
   "metadata": {},
   "outputs": [
    {
     "data": {
      "image/png": "[encoded data removed]",
      "text/plain": [
       "<Figure size 432x288 with 1 Axes>"
      ]
     },
     "metadata": {
      "needs_background": "light"
     },
     "output_type": "display_data"
    }
   ],
   "source": [
    "def_ROI.plot(kind='bar',title='ROI',grid=True);"
   ]
  },
  {
   "cell_type": "markdown",
   "metadata": {},
   "source": [
    "According to this plots, only clients with credit are profitable."
   ]
  },
  {
   "cell_type": "markdown",
   "metadata": {},
   "source": [
    "##### Housing - loan"
   ]
  },
  {
   "cell_type": "code",
   "execution_count": 37,
   "metadata": {},
   "outputs": [],
   "source": [
    "hou_inc = campaign_gp.groupby('housing').income.sum()\n",
    "hou_cost = campaign_gp.groupby('housing').call_cost.sum()\n",
    "hou_rev = hou_inc - hou_cost\n",
    "hou_ROI = (hou_inc - hou_cost)/hou_cost"
   ]
  },
  {
   "cell_type": "code",
   "execution_count": 38,
   "metadata": {},
   "outputs": [
    {
     "data": {
      "image/png": "[encoded data removed]",
      "text/plain": [
       "<Figure size 720x432 with 2 Axes>"
      ]
     },
     "metadata": {
      "needs_background": "light"
     },
     "output_type": "display_data"
    }
   ],
   "source": [
    "fig, axes = plt.subplots(nrows=1, ncols=2,sharey='row',figsize = (10,6))\n",
    "hou_inc.plot(ax=axes[0],kind='bar',title='Income',grid=True)\n",
    "hou_rev.plot(ax=axes[1],kind='bar',title='Revenue',grid=True)\n",
    "plt.tight_layout();"
   ]
  },
  {
   "cell_type": "code",
   "execution_count": 39,
   "metadata": {},
   "outputs": [
    {
     "data": {
      "image/png": "[encoded data removed]",
      "text/plain": [
       "<Figure size 432x288 with 1 Axes>"
      ]
     },
     "metadata": {
      "needs_background": "light"
     },
     "output_type": "display_data"
    }
   ],
   "source": [
    "hou_ROI.plot(kind='bar',title='ROI',grid=True);"
   ]
  },
  {
   "cell_type": "markdown",
   "metadata": {},
   "source": [
    "For clients with or without housing loan, there is no significant difference."
   ]
  },
  {
   "cell_type": "markdown",
   "metadata": {},
   "source": [
    "##### Loan"
   ]
  },
  {
   "cell_type": "code",
   "execution_count": 40,
   "metadata": {},
   "outputs": [],
   "source": [
    "loan_inc = campaign_gp.groupby('loan').income.sum()\n",
    "loan_cost = campaign_gp.groupby('loan').call_cost.sum()\n",
    "loan_rev = loan_inc - loan_cost\n",
    "loan_ROI = (loan_inc - loan_cost)/loan_cost"
   ]
  },
  {
   "cell_type": "code",
   "execution_count": 41,
   "metadata": {},
   "outputs": [
    {
     "data": {
      "image/png": "[encoded data removed]",
      "text/plain": [
       "<Figure size 720x432 with 2 Axes>"
      ]
     },
     "metadata": {
      "needs_background": "light"
     },
     "output_type": "display_data"
    }
   ],
   "source": [
    "fig, axes = plt.subplots(nrows=1, ncols=2,sharey='row',figsize = (10,6))\n",
    "loan_inc.plot(ax=axes[0],kind='bar',title='Income',grid=True)\n",
    "loan_rev.plot(ax=axes[1],kind='bar',title='Revenue',grid=True)\n",
    "plt.tight_layout();"
   ]
  },
  {
   "cell_type": "code",
   "execution_count": 42,
   "metadata": {},
   "outputs": [
    {
     "data": {
      "image/png": "[encoded data removed]",
      "text/plain": [
       "<Figure size 432x288 with 1 Axes>"
      ]
     },
     "metadata": {
      "needs_background": "light"
     },
     "output_type": "display_data"
    }
   ],
   "source": [
    "loan_ROI.plot(kind='bar',title='ROI',grid=True);"
   ]
  },
  {
   "cell_type": "markdown",
   "metadata": {},
   "source": [
    "As well as Housing loan groups are similar."
   ]
  },
  {
   "cell_type": "markdown",
   "metadata": {},
   "source": [
    "##### Age"
   ]
  },
  {
   "cell_type": "code",
   "execution_count": 43,
   "metadata": {},
   "outputs": [],
   "source": [
    "bins = list(range(0,91,10))"
   ]
  },
  {
   "cell_type": "code",
   "execution_count": 44,
   "metadata": {},
   "outputs": [],
   "source": [
    "age_inc = campaign_gp.groupby(pd.cut(campaign_gp.age,bins)).income.sum()\n",
    "age_cost = campaign_gp.groupby(pd.cut(campaign_gp.age,bins)).call_cost.sum()\n",
    "age_rev = age_inc - age_cost\n",
    "age_ROI = (age_inc - age_cost)/age_cost"
   ]
  },
  {
   "cell_type": "code",
   "execution_count": 45,
   "metadata": {},
   "outputs": [
    {
     "data": {
      "image/png": "[encoded data removed]",
      "text/plain": [
       "<Figure size 720x432 with 2 Axes>"
      ]
     },
     "metadata": {
      "needs_background": "light"
     },
     "output_type": "display_data"
    }
   ],
   "source": [
    "fig, axes = plt.subplots(nrows=1, ncols=2,sharey='row',figsize = (10,6))\n",
    "age_inc.plot(ax=axes[0],kind='bar',title='Income',grid=True)\n",
    "age_rev.plot(ax=axes[1],kind='bar',title='Revenue',grid=True)\n",
    "plt.tight_layout();"
   ]
  },
  {
   "cell_type": "code",
   "execution_count": 46,
   "metadata": {},
   "outputs": [
    {
     "data": {
      "image/png": "[encoded data removed]",
      "text/plain": [
       "<Figure size 432x288 with 1 Axes>"
      ]
     },
     "metadata": {
      "needs_background": "light"
     },
     "output_type": "display_data"
    }
   ],
   "source": [
    "age_ROI.plot(kind='bar',title='ROI',grid=True);"
   ]
  },
  {
   "cell_type": "markdown",
   "metadata": {},
   "source": [
    "This Age split shows inverse relationship. Those with relatively low income generated, have the highest ROI rate. So those are focuse groups. "
   ]
  },
  {
   "cell_type": "markdown",
   "metadata": {},
   "source": [
    "## Modeling"
   ]
  },
  {
   "cell_type": "markdown",
   "metadata": {},
   "source": [
    "Dropping columns related to the campaign, to the day of subscription to rid of any values which are generated after subscription. Those values can skew our prediction model. Dropping also columns with calculations and test_control_flag. "
   ]
  },
  {
   "cell_type": "code",
   "execution_count": 47,
   "metadata": {},
   "outputs": [],
   "source": [
    "campaign_gp.drop(['contact', 'month', 'day_of_week', 'duration', 'campaign', \n",
    "                  'emp.var.rate', 'cons.price.idx','cons.conf.idx', 'euribor3m', 'nr.employed',\n",
    "                 'test_control_flag', 'call_cost', 'income'],axis=1,inplace=True)"
   ]
  },
  {
   "cell_type": "markdown",
   "metadata": {},
   "source": [
    "As shown on the plots above, the dataset contains a lot of unknown values so it's time to deal with them. I didn't take care of them earlier because I wanted to see if they have any significant meaning and they don't with estimated revenue."
   ]
  },
  {
   "cell_type": "code",
   "execution_count": 48,
   "metadata": {},
   "outputs": [
    {
     "data": {
      "text/plain": [
       "age             0\n",
       "job           145\n",
       "marital        36\n",
       "education     694\n",
       "default      3433\n",
       "housing       409\n",
       "loan          409\n",
       "pdays           0\n",
       "previous        0\n",
       "poutcome        0\n",
       "y               0\n",
       "dtype: int64"
      ]
     },
     "execution_count": 48,
     "metadata": {},
     "output_type": "execute_result"
    }
   ],
   "source": [
    "campaign_gp.isin(['unknown']).sum()"
   ]
  },
  {
   "cell_type": "code",
   "execution_count": 49,
   "metadata": {},
   "outputs": [],
   "source": [
    "#Switching unknown values to NaN to have easy access by python function fillna. \n",
    "campaign_gp.replace('unknown',np.NaN,inplace=True)"
   ]
  },
  {
   "cell_type": "code",
   "execution_count": 50,
   "metadata": {},
   "outputs": [],
   "source": [
    "#Filling nan values with modes.\n",
    "campaign_gp.fillna(campaign_gp.mode().iloc[0],inplace=True)"
   ]
  },
  {
   "cell_type": "code",
   "execution_count": 51,
   "metadata": {},
   "outputs": [
    {
     "data": {
      "text/plain": [
       "age          0\n",
       "job          0\n",
       "marital      0\n",
       "education    0\n",
       "default      0\n",
       "housing      0\n",
       "loan         0\n",
       "pdays        0\n",
       "previous     0\n",
       "poutcome     0\n",
       "y            0\n",
       "dtype: int64"
      ]
     },
     "execution_count": 51,
     "metadata": {},
     "output_type": "execute_result"
    }
   ],
   "source": [
    "campaign_gp.isnull().sum()"
   ]
  },
  {
   "cell_type": "markdown",
   "metadata": {},
   "source": [
    "#### Displaying correlatoins"
   ]
  },
  {
   "cell_type": "code",
   "execution_count": 52,
   "metadata": {},
   "outputs": [
    {
     "name": "stdout",
     "output_type": "stream",
     "text": [
      "['job', 'marital', 'education', 'default', 'housing', 'loan', 'poutcome']\n"
     ]
    }
   ],
   "source": [
    "#Getting a list of columns with category type\n",
    "obj_col2 = []\n",
    "for col in campaign_gp.columns:\n",
    "    if str(campaign_gp[col].dtype) == 'category':\n",
    "        obj_col2.append(col)\n",
    "    else:\n",
    "        continue\n",
    "print(obj_col2)"
   ]
  },
  {
   "cell_type": "code",
   "execution_count": 53,
   "metadata": {},
   "outputs": [],
   "source": [
    "#Changing category data to numerical\n",
    "from sklearn.preprocessing import LabelEncoder\n",
    "\n",
    "le = LabelEncoder()\n",
    "campaign_gp[obj_col2] = campaign_gp[obj_col2].apply(le.fit_transform)"
   ]
  },
  {
   "cell_type": "code",
   "execution_count": 54,
   "metadata": {},
   "outputs": [
    {
     "name": "stdout",
     "output_type": "stream",
     "text": [
      "<class 'pandas.core.frame.DataFrame'>\n",
      "Int64Index: 16476 entries, 1 to 16476\n",
      "Data columns (total 11 columns):\n",
      " #   Column     Non-Null Count  Dtype\n",
      "---  ------     --------------  -----\n",
      " 0   age        16476 non-null  int64\n",
      " 1   job        16476 non-null  int32\n",
      " 2   marital    16476 non-null  int32\n",
      " 3   education  16476 non-null  int32\n",
      " 4   default    16476 non-null  int32\n",
      " 5   housing    16476 non-null  int32\n",
      " 6   loan       16476 non-null  int32\n",
      " 7   pdays      16476 non-null  int64\n",
      " 8   previous   16476 non-null  int64\n",
      " 9   poutcome   16476 non-null  int32\n",
      " 10  y          16476 non-null  int64\n",
      "dtypes: int32(7), int64(4)\n",
      "memory usage: 1.1 MB\n"
     ]
    }
   ],
   "source": [
    "campaign_gp.info()"
   ]
  },
  {
   "cell_type": "code",
   "execution_count": 55,
   "metadata": {},
   "outputs": [],
   "source": [
    "#Applying correlation function to see if any features are correlated to avoid multicollinearity \n",
    "corr = campaign_gp.corr()"
   ]
  },
  {
   "cell_type": "code",
   "execution_count": 56,
   "metadata": {},
   "outputs": [
    {
     "data": {
      "text/plain": [
       "<matplotlib.axes._subplots.AxesSubplot at 0x23aacf435c8>"
      ]
     },
     "execution_count": 56,
     "metadata": {},
     "output_type": "execute_result"
    },
    {
     "data": {
      "image/png": "[encoded data removed]",
      "text/plain": [
       "<Figure size 864x576 with 1 Axes>"
      ]
     },
     "metadata": {
      "needs_background": "light"
     },
     "output_type": "display_data"
    }
   ],
   "source": [
    "mask = np.triu(np.ones_like(corr, dtype=np.bool))\n",
    "plt.figure(figsize=(12,8))\n",
    "sns.heatmap(corr, mask=mask,annot=True, fmt='.3f',cbar=False)"
   ]
  },
  {
   "cell_type": "markdown",
   "metadata": {},
   "source": [
    "#### Making dummy variables "
   ]
  },
  {
   "cell_type": "code",
   "execution_count": 57,
   "metadata": {},
   "outputs": [],
   "source": [
    "#Making and dropping first column for given feature from which we are creating dummies to avoid multicollinearity.\n",
    "campaign_gp = pd.get_dummies(data=campaign_gp, columns=obj_col2,drop_first=True)"
   ]
  },
  {
   "cell_type": "code",
   "execution_count": 58,
   "metadata": {},
   "outputs": [
    {
     "data": {
      "text/plain": [
       "Index(['age', 'pdays', 'previous', 'y', 'job_1', 'job_2', 'job_3', 'job_4',\n",
       "       'job_5', 'job_6', 'job_7', 'job_8', 'job_9', 'job_10', 'marital_1',\n",
       "       'marital_2', 'education_1', 'education_2', 'education_3', 'education_4',\n",
       "       'education_5', 'education_6', 'default_1', 'housing_1', 'loan_1',\n",
       "       'poutcome_1', 'poutcome_2'],\n",
       "      dtype='object')"
      ]
     },
     "execution_count": 58,
     "metadata": {},
     "output_type": "execute_result"
    }
   ],
   "source": [
    "campaign_gp.columns"
   ]
  },
  {
   "cell_type": "code",
   "execution_count": 59,
   "metadata": {},
   "outputs": [],
   "source": [
    "from sklearn.preprocessing import MinMaxScaler\n",
    "\n",
    "#Scaling numerical data to speed up a computation process\n",
    "scaler = MinMaxScaler()\n",
    "to_scale = ['age','pdays','previous']\n",
    "\n",
    "campaign_gp[to_scale] = scaler.fit_transform(campaign_gp[to_scale])"
   ]
  },
  {
   "cell_type": "code",
   "execution_count": 60,
   "metadata": {
    "scrolled": true
   },
   "outputs": [
    {
     "name": "stdout",
     "output_type": "stream",
     "text": [
      "age \n",
      " 0.186667    759\n",
      "0.200000    750\n",
      "0.213333    735\n",
      "0.240000    723\n",
      "0.253333    714\n",
      "           ... \n",
      "0.920000      3\n",
      "0.893333      3\n",
      "1.000000      2\n",
      "0.000000      2\n",
      "0.960000      1\n",
      "Name: age, Length: 73, dtype: int64 \n",
      "\n",
      "pdays \n",
      " 1.000000    15873\n",
      "0.003003      188\n",
      "0.006006      164\n",
      "0.004004       43\n",
      "0.009009       26\n",
      "0.002002       26\n",
      "0.007007       23\n",
      "0.010010       17\n",
      "0.012012       17\n",
      "0.005005       16\n",
      "0.001001       14\n",
      "0.013013       12\n",
      "0.011011        9\n",
      "0.014014        8\n",
      "0.015015        8\n",
      "0.008008        7\n",
      "0.000000        6\n",
      "0.017017        5\n",
      "0.019019        3\n",
      "0.016016        3\n",
      "0.018018        2\n",
      "0.022022        2\n",
      "0.026026        1\n",
      "0.027027        1\n",
      "0.025025        1\n",
      "0.020020        1\n",
      "Name: pdays, dtype: int64 \n",
      "\n",
      "previous \n",
      " 0.000000    14229\n",
      "0.166667     1819\n",
      "0.333333      306\n",
      "0.500000       85\n",
      "0.666667       26\n",
      "0.833333        9\n",
      "1.000000        2\n",
      "Name: previous, dtype: int64 \n",
      "\n"
     ]
    }
   ],
   "source": [
    "for col in to_scale:\n",
    "    print(str(col),\"\\n\",campaign_gp[col].value_counts(),\"\\n\")"
   ]
  },
  {
   "cell_type": "markdown",
   "metadata": {},
   "source": [
    "#### Creating dataset with Smote"
   ]
  },
  {
   "cell_type": "markdown",
   "metadata": {},
   "source": [
    "As we can saw at the beginning we are dealing with the imbalanced dataset, bearly 3 to 22 (subscribed to not subscribed). So I decided to use SMOTE ( _Synthetic Minority Oversampling Technique_) library to add samples to the dataset to balance y category."
   ]
  },
  {
   "cell_type": "code",
   "execution_count": 61,
   "metadata": {},
   "outputs": [
    {
     "name": "stderr",
     "output_type": "stream",
     "text": [
      "Using TensorFlow backend.\n"
     ]
    }
   ],
   "source": [
    "from imblearn.over_sampling import SMOTE\n",
    "from sklearn.model_selection import train_test_split\n",
    "from collections import Counter\n",
    "from sklearn.linear_model import LogisticRegression\n",
    "from sklearn.neighbors import KNeighborsClassifier\n",
    "from sklearn.tree import DecisionTreeClassifier\n",
    "from sklearn.ensemble import RandomForestClassifier\n",
    "from xgboost import XGBClassifier\n",
    "from sklearn.linear_model import SGDClassifier\n",
    "from sklearn.svm import SVC\n",
    "from sklearn.metrics import confusion_matrix, auc, roc_auc_score, roc_curve, classification_report\n",
    "from sklearn.ensemble import VotingClassifier\n",
    "from sklearn.model_selection import GridSearchCV\n",
    "from sklearn import metrics"
   ]
  },
  {
   "cell_type": "code",
   "execution_count": 62,
   "metadata": {},
   "outputs": [
    {
     "name": "stdout",
     "output_type": "stream",
     "text": [
      "Y structure before oversampling: \n",
      "lables 1: 1856 \n",
      "lables 0: 14620\n"
     ]
    }
   ],
   "source": [
    "#Splitting dataset to variables (independent variable - X) and target (dependent variable - y)\n",
    "X = campaign_gp.drop('y',axis=1)\n",
    "y = campaign_gp.y\n",
    "\n",
    "print(\"Y structure before oversampling:\", \n",
    "      \"\\nlables 1:\",sum(y == 1), \n",
    "      '\\nlables 0:', sum(y == 0))"
   ]
  },
  {
   "cell_type": "code",
   "execution_count": 63,
   "metadata": {},
   "outputs": [
    {
     "name": "stdout",
     "output_type": "stream",
     "text": [
      "Y structe after oversampling: \n",
      "lables 1: 14620 \n",
      "lables 0: 14620\n"
     ]
    }
   ],
   "source": [
    "sm = SMOTE(random_state=42)\n",
    "X_res, y_res = sm.fit_resample(X, y.ravel())\n",
    "\n",
    "X_train, X_test, y_train, y_test = train_test_split(X_res, y_res, test_size=0.20, random_state=42)\n",
    "\n",
    "print(\"Y structe after oversampling:\", \n",
    "      \"\\nlables 1:\", Counter(y_res)[1], \n",
    "      '\\nlables 0:', Counter(y_res)[0])"
   ]
  },
  {
   "cell_type": "code",
   "execution_count": 64,
   "metadata": {},
   "outputs": [
    {
     "name": "stdout",
     "output_type": "stream",
     "text": [
      "Logistic regression Accuracy: 64.27838577291382 \n",
      "Logistic regression Roc_auc_score: 64.02990682428292 \n",
      "\n",
      "SVM Linear Accuracy: 63.252393980848154 \n",
      "SVM Linear Roc_auc_score: 63.15296302994018 \n",
      "\n",
      "SGD Classifier Accuracy: 63.252393980848154 \n",
      "SGD Classifier Roc_auc_score: 63.15296302994018 \n",
      "\n",
      "K-nearest Neighbors Accuracy: 74.72640218878249 \n",
      "K-nearest Neighbors Roc_auc_score: 74.69314516766187 \n",
      "\n",
      "Decision Tree Accuracy: 87.96169630642954 \n",
      "Decision Tree Roc_auc_score: 87.93440888344227 \n",
      "\n",
      "Random Forest Accuracy: 82.14774281805745 \n",
      "Random Forest Roc_auc_score: 82.06535116904186 \n",
      "\n",
      "XGBoost Accuracy: 76.8467852257182 \n",
      "XGBoost Roc_auc_score: 76.45352889641114 \n",
      "\n"
     ]
    }
   ],
   "source": [
    "#Checking which model will the best\n",
    "names = [\"Logistic regression\",\n",
    "        \"SVM Linear\",\n",
    "        \"SGD Classifier\",\n",
    "        \"K-nearest Neighbors\",\n",
    "        \"Decision Tree\", \n",
    "        \"Random Forest\",\n",
    "        \"XGBoost\"\n",
    "        ]\n",
    "\n",
    "classifiers = [LogisticRegression(),\n",
    "        SVC(kernel = 'linear'),\n",
    "        SGDClassifier(max_iter = 100),\n",
    "        KNeighborsClassifier(),\n",
    "        DecisionTreeClassifier(),\n",
    "        RandomForestClassifier(),\n",
    "        XGBClassifier()    \n",
    "        ]\n",
    "\n",
    "models = zip(names, classifiers)\n",
    "Mods = []\n",
    "AUCS = []\n",
    "\n",
    "for name, model in models:\n",
    "    model.fit(X_train,y_train)\n",
    "    accuracy = model.score(X_test, y_test)*100\n",
    "    pred = model.predict(X_test)\n",
    "    score = roc_auc_score(y_test,pred)*100\n",
    "    Mods.append(accuracy)\n",
    "    AUCS.append(score)\n",
    "    print(\"{} Accuracy: {}\".format(name, accuracy),\n",
    "         \"\\n{} Roc_auc_score: {}\".format(name, score),\"\\n\")"
   ]
  },
  {
   "cell_type": "code",
   "execution_count": 65,
   "metadata": {},
   "outputs": [
    {
     "data": {
      "text/html": [
       "<div>\n",
       "<style scoped>\n",
       "    .dataframe tbody tr th:only-of-type {\n",
       "        vertical-align: middle;\n",
       "    }\n",
       "\n",
       "    .dataframe tbody tr th {\n",
       "        vertical-align: top;\n",
       "    }\n",
       "\n",
       "    .dataframe thead th {\n",
       "        text-align: right;\n",
       "    }\n",
       "</style>\n",
       "<table border=\"1\" class=\"dataframe\">\n",
       "  <thead>\n",
       "    <tr style=\"text-align: right;\">\n",
       "      <th></th>\n",
       "      <th>Model</th>\n",
       "      <th>Accuracy</th>\n",
       "      <th>ROC_AUC_score</th>\n",
       "    </tr>\n",
       "  </thead>\n",
       "  <tbody>\n",
       "    <tr>\n",
       "      <th>4</th>\n",
       "      <td>Decision Tree</td>\n",
       "      <td>87.961696</td>\n",
       "      <td>87.934409</td>\n",
       "    </tr>\n",
       "    <tr>\n",
       "      <th>5</th>\n",
       "      <td>Random Forest</td>\n",
       "      <td>82.147743</td>\n",
       "      <td>82.065351</td>\n",
       "    </tr>\n",
       "    <tr>\n",
       "      <th>6</th>\n",
       "      <td>XGBoost</td>\n",
       "      <td>76.846785</td>\n",
       "      <td>76.453529</td>\n",
       "    </tr>\n",
       "    <tr>\n",
       "      <th>3</th>\n",
       "      <td>K-nearest Neighbors</td>\n",
       "      <td>74.726402</td>\n",
       "      <td>74.693145</td>\n",
       "    </tr>\n",
       "    <tr>\n",
       "      <th>0</th>\n",
       "      <td>Logistic regression</td>\n",
       "      <td>64.278386</td>\n",
       "      <td>64.029907</td>\n",
       "    </tr>\n",
       "    <tr>\n",
       "      <th>1</th>\n",
       "      <td>SVM Linear</td>\n",
       "      <td>63.252394</td>\n",
       "      <td>63.152963</td>\n",
       "    </tr>\n",
       "    <tr>\n",
       "      <th>2</th>\n",
       "      <td>SGD Classifier</td>\n",
       "      <td>63.252394</td>\n",
       "      <td>63.152963</td>\n",
       "    </tr>\n",
       "  </tbody>\n",
       "</table>\n",
       "</div>"
      ],
      "text/plain": [
       "                 Model   Accuracy  ROC_AUC_score\n",
       "4        Decision Tree  87.961696      87.934409\n",
       "5        Random Forest  82.147743      82.065351\n",
       "6              XGBoost  76.846785      76.453529\n",
       "3  K-nearest Neighbors  74.726402      74.693145\n",
       "0  Logistic regression  64.278386      64.029907\n",
       "1           SVM Linear  63.252394      63.152963\n",
       "2       SGD Classifier  63.252394      63.152963"
      ]
     },
     "execution_count": 65,
     "metadata": {},
     "output_type": "execute_result"
    }
   ],
   "source": [
    "#Sorting outcomes in more convenient way\n",
    "d = {\"Model\":names,'Accuracy':Mods,'ROC_AUC_score':AUCS}\n",
    "df = pd.DataFrame(d)\n",
    "df.sort_values('ROC_AUC_score',ascending=False)"
   ]
  },
  {
   "cell_type": "code",
   "execution_count": 66,
   "metadata": {},
   "outputs": [
    {
     "name": "stdout",
     "output_type": "stream",
     "text": [
      "Voting Classifier: Accuracy: 86.08071135430917\n",
      "Voting Classifier: Score: 85.95958230404628\n"
     ]
    }
   ],
   "source": [
    "#Creating an ensemble model to see if there will be any increase in ROC_AUC_score\n",
    "clf1 = XGBClassifier()\n",
    "clf2 = RandomForestClassifier()\n",
    "clf3 = DecisionTreeClassifier()\n",
    "\n",
    "ensemble = VotingClassifier(estimators = [('XGB',clf1), ('RND',clf2), ('DEC',clf3)], \n",
    "                            voting = 'hard', n_jobs = -1)\n",
    "ensemble.fit(X_train,y_train)\n",
    "\n",
    "accuracy_ens = ensemble.score(X_test, y_test)*100\n",
    "pred_ens = ensemble.predict(X_test)\n",
    "score_ens = roc_auc_score(y_test,pred_ens)*100\n",
    "\n",
    "print(\"Voting Classifier: Accuracy:\", accuracy_ens)\n",
    "print(\"Voting Classifier: Score:\", score_ens)"
   ]
  },
  {
   "cell_type": "markdown",
   "metadata": {},
   "source": [
    "## Decision Tree & Grid Search"
   ]
  },
  {
   "cell_type": "markdown",
   "metadata": {},
   "source": [
    "Creating Grid Search to see if there will be any improvement"
   ]
  },
  {
   "cell_type": "code",
   "execution_count": 67,
   "metadata": {},
   "outputs": [
    {
     "name": "stdout",
     "output_type": "stream",
     "text": [
      "Fitting 5 folds for each of 100 candidates, totalling 500 fits\n"
     ]
    },
    {
     "name": "stderr",
     "output_type": "stream",
     "text": [
      "[Parallel(n_jobs=-1)]: Using backend LokyBackend with 8 concurrent workers.\n",
      "[Parallel(n_jobs=-1)]: Done  39 tasks      | elapsed:    0.8s\n",
      "[Parallel(n_jobs=-1)]: Done 276 tasks      | elapsed:    4.2s\n",
      "[Parallel(n_jobs=-1)]: Done 500 out of 500 | elapsed:    8.6s finished\n"
     ]
    },
    {
     "data": {
      "text/plain": [
       "GridSearchCV(cv=5, error_score=nan,\n",
       "             estimator=DecisionTreeClassifier(ccp_alpha=0.0, class_weight=None,\n",
       "                                              criterion='gini', max_depth=None,\n",
       "                                              max_features=None,\n",
       "                                              max_leaf_nodes=None,\n",
       "                                              min_impurity_decrease=0.0,\n",
       "                                              min_impurity_split=None,\n",
       "                                              min_samples_leaf=1,\n",
       "                                              min_samples_split=2,\n",
       "                                              min_weight_fraction_leaf=0.0,\n",
       "                                              presort='deprecated',\n",
       "                                              random_state=None,\n",
       "                                              splitter='best'),\n",
       "             iid='deprecated', n_jobs=-1,\n",
       "             param_grid={'max_depth': [5, 8, 15, 25, 30],\n",
       "                         'min_samples_leaf': [1, 2, 5, 10],\n",
       "                         'min_samples_split': [2, 5, 10, 15, 100]},\n",
       "             pre_dispatch='2*n_jobs', refit=True, return_train_score=False,\n",
       "             scoring='roc_auc', verbose=2)"
      ]
     },
     "execution_count": 67,
     "metadata": {},
     "output_type": "execute_result"
    }
   ],
   "source": [
    "max_depth = [5, 8, 15, 25, 30]\n",
    "min_samples_split = [2, 5, 10, 15, 100]\n",
    "min_samples_leaf = [1, 2, 5, 10] \n",
    "\n",
    "hyperF = dict(max_depth = max_depth,  \n",
    "              min_samples_split = min_samples_split, \n",
    "             min_samples_leaf = min_samples_leaf)\n",
    "\n",
    "decision = DecisionTreeClassifier()\n",
    "\n",
    "grid = GridSearchCV(decision, \n",
    "                     hyperF,\n",
    "                     scoring='roc_auc',\n",
    "                     cv = 5, \n",
    "                     verbose = 2, \n",
    "                     n_jobs = -1,\n",
    "                     )\n",
    "grid.fit(X_train, y_train)"
   ]
  },
  {
   "cell_type": "code",
   "execution_count": 68,
   "metadata": {},
   "outputs": [
    {
     "name": "stdout",
     "output_type": "stream",
     "text": [
      "Grid Search Accuracy: 91.2010368073637\n",
      "Grid Search Score: 83.31410827017154\n"
     ]
    }
   ],
   "source": [
    "accuracy_grid = grid.score(X_test, y_test)*100\n",
    "pred_grid=grid.predict(X_test)\n",
    "score_grid = roc_auc_score(y_test,pred_grid)*100\n",
    "print(\"Grid Search Accuracy:\", accuracy_grid)\n",
    "print(\"Grid Search Score:\", score_grid)"
   ]
  },
  {
   "cell_type": "markdown",
   "metadata": {},
   "source": [
    "## Decision Tree alone"
   ]
  },
  {
   "cell_type": "markdown",
   "metadata": {},
   "source": [
    "So if there is any improvement I will use Decision Tree Algorithm with default settings."
   ]
  },
  {
   "cell_type": "code",
   "execution_count": 69,
   "metadata": {},
   "outputs": [],
   "source": [
    "dec = DecisionTreeClassifier()\n",
    "model_dec = dec.fit(X_train,y_train)\n",
    "preds = model_dec.predict(X_test)"
   ]
  },
  {
   "cell_type": "code",
   "execution_count": 70,
   "metadata": {},
   "outputs": [],
   "source": [
    "#buillding funcion for generating ROC plot\n",
    "def buildROC(target_test,test_preds):\n",
    "    fpr, tpr, threshold = metrics.roc_curve(target_test, test_preds)\n",
    "    roc_auc = metrics.auc(fpr, tpr)\n",
    "    plt.title('Receiver Operating Characteristic')\n",
    "    plt.plot(fpr, tpr, 'b', label = 'AUC = %0.3f' % roc_auc)\n",
    "    plt.legend(loc = 'lower right')\n",
    "    plt.plot([0, 1], [0, 1],'r--')\n",
    "    plt.ylabel('True Positive Rate')\n",
    "    plt.xlabel('False Positive Rate')"
   ]
  },
  {
   "cell_type": "code",
   "execution_count": 71,
   "metadata": {},
   "outputs": [
    {
     "data": {
      "image/png": "[encoded data removed]",
      "text/plain": [
       "<Figure size 432x288 with 1 Axes>"
      ]
     },
     "metadata": {
      "needs_background": "light"
     },
     "output_type": "display_data"
    }
   ],
   "source": [
    "buildROC(y_test,preds)"
   ]
  },
  {
   "cell_type": "code",
   "execution_count": 72,
   "metadata": {},
   "outputs": [
    {
     "name": "stdout",
     "output_type": "stream",
     "text": [
      "              precision    recall  f1-score   support\n",
      "\n",
      "           0       0.88      0.89      0.88      3003\n",
      "           1       0.88      0.87      0.88      2845\n",
      "\n",
      "    accuracy                           0.88      5848\n",
      "   macro avg       0.88      0.88      0.88      5848\n",
      "weighted avg       0.88      0.88      0.88      5848\n",
      "\n"
     ]
    }
   ],
   "source": [
    "print(classification_report(y_test,preds))"
   ]
  },
  {
   "cell_type": "code",
   "execution_count": 73,
   "metadata": {},
   "outputs": [
    {
     "data": {
      "image/png": "[encoded data removed]",
      "text/plain": [
       "<Figure size 432x288 with 1 Axes>"
      ]
     },
     "metadata": {
      "needs_background": "light"
     },
     "output_type": "display_data"
    }
   ],
   "source": [
    "cm = confusion_matrix(y_test,preds)\n",
    "\n",
    "ax = sns.heatmap(cm,annot=True,fmt='.0f',cbar=False)\n",
    "plt.title(\"Confusion matrix Oversampled Dataset\")\n",
    "plt.xlabel('Predicted')\n",
    "plt.ylabel('True');"
   ]
  },
  {
   "cell_type": "markdown",
   "metadata": {},
   "source": [
    "As we can see the model on oversampled data performs very well:\n",
    "- 378 cases were classified that will not subscribe which will subscribe\n",
    "- 333 cases were classified that will subscribe which will not subscribe"
   ]
  },
  {
   "cell_type": "code",
   "execution_count": 74,
   "metadata": {},
   "outputs": [
    {
     "name": "stdout",
     "output_type": "stream",
     "text": [
      "Average cost per call 1.93\n"
     ]
    }
   ],
   "source": [
    "#Calculating average cost from campaign group for further calculations\n",
    "avg_cost = call_cost_sum/len(X)\n",
    "print(\"Average cost per call\",round(avg_cost,2))"
   ]
  },
  {
   "cell_type": "code",
   "execution_count": 75,
   "metadata": {},
   "outputs": [],
   "source": [
    "fals_pos = cm[0][1]\n",
    "true_pos = cm[1][1]\n",
    "\n",
    "sum_pos = fals_pos + true_pos\n",
    "costs_pos = sum_pos*avg_cost\n",
    "incom_pos = true_pos*income_price\n",
    "\n",
    "reve_pos = incom_pos - costs_pos\n",
    "\n",
    "ROI = (incom_pos - costs_pos)/costs_pos"
   ]
  },
  {
   "cell_type": "code",
   "execution_count": 76,
   "metadata": {},
   "outputs": [
    {
     "name": "stdout",
     "output_type": "stream",
     "text": [
      "Total costs 5,404.74\n",
      "Total revenue: 68,725.26 \n",
      "ROI: 1,271.57 %\n"
     ]
    }
   ],
   "source": [
    "print(\"Total costs\", f\"{round(costs_pos,2):,}\"\n",
    "    \"\\nTotal revenue:\", f\"{round(reve_pos,2):,}\",\n",
    "    \"\\nROI:\",f\"{round(ROI*100,2):,}\",\"%\")"
   ]
  },
  {
   "cell_type": "markdown",
   "metadata": {},
   "source": [
    "### Other approch"
   ]
  },
  {
   "cell_type": "markdown",
   "metadata": {},
   "source": [
    "Preparing dataset where only training data will be oversampled, training data will be unbalanced to see if algorithms will be able to predict in a reasonable way. Rest steps are the same as previously."
   ]
  },
  {
   "cell_type": "code",
   "execution_count": 77,
   "metadata": {},
   "outputs": [
    {
     "name": "stdout",
     "output_type": "stream",
     "text": [
      "Shapes before oversampling: (13180, 26) (13180,) (3296, 26) (3296,)\n",
      "\n",
      "Y structure in train set before oversampling: \n",
      "lables 1: 1499 \n",
      "lables 0: 11681\n"
     ]
    }
   ],
   "source": [
    "X = campaign_gp.drop('y',axis=1)\n",
    "y = campaign_gp.y\n",
    "\n",
    "X_train, X_test, y_train, y_test = train_test_split(X, y, test_size=0.20, random_state=42)\n",
    "print(\"Shapes before oversampling:\", X_train.shape, y_train.shape, X_test.shape, y_test.shape)\n",
    "\n",
    "print(\"\\nY structure in train set before oversampling:\", \n",
    "      \"\\nlables 1:\",sum(y_train == 1), \n",
    "      '\\nlables 0:', sum(y_train == 0))"
   ]
  },
  {
   "cell_type": "code",
   "execution_count": 78,
   "metadata": {},
   "outputs": [
    {
     "name": "stdout",
     "output_type": "stream",
     "text": [
      "Shapes after oversampling: (23362, 26) (23362,) (3296, 26) (3296,)\n",
      "\n",
      "Y structure in train set after oversampling: \n",
      "lables 1: 11681 \n",
      "lables 0: 11681\n"
     ]
    }
   ],
   "source": [
    "X_train_res, y_train_res = sm.fit_resample(X_train, y_train.ravel())\n",
    "print(\"Shapes after oversampling:\",X_train_res.shape, y_train_res.shape, X_test.shape, y_test.shape)\n",
    "\n",
    "print(\"\\nY structure in train set after oversampling:\", \n",
    "      \"\\nlables 1:\",sum(y_train_res == 1), \n",
    "      '\\nlables 0:', sum(y_train_res == 0))"
   ]
  },
  {
   "cell_type": "code",
   "execution_count": 79,
   "metadata": {},
   "outputs": [
    {
     "name": "stdout",
     "output_type": "stream",
     "text": [
      "Logistic regression Accuracy: 69.9635922330097 \n",
      "Logistic regression Roc_auc_score: 62.732326683650655 \n",
      "\n",
      "SVM Linear Accuracy: 66.01941747572816 \n",
      "SVM Linear Roc_auc_score: 62.489385002044386 \n",
      "\n",
      "SGD Classifier Accuracy: 66.01941747572816 \n",
      "SGD Classifier Roc_auc_score: 62.489385002044386 \n",
      "\n",
      "K-nearest Neighbors Accuracy: 76.97208737864078 \n",
      "K-nearest Neighbors Roc_auc_score: 59.525715696281914 \n",
      "\n",
      "Decision Tree Accuracy: 83.82888349514563 \n",
      "Decision Tree Roc_auc_score: 58.571866991097224 \n",
      "\n",
      "Random Forest Accuracy: 81.58373786407766 \n",
      "Random Forest Roc_auc_score: 60.758151508306625 \n",
      "\n",
      "XGBoost Accuracy: 85.31553398058253 \n",
      "XGBoost Roc_auc_score: 63.58896059274338 \n",
      "\n"
     ]
    }
   ],
   "source": [
    "names = [\"Logistic regression\",\n",
    "        \"SVM Linear\",\n",
    "        \"SGD Classifier\",\n",
    "        \"K-nearest Neighbors\",\n",
    "        \"Decision Tree\", \n",
    "        \"Random Forest\",\n",
    "        \"XGBoost\"\n",
    "        ]\n",
    "\n",
    "classifiers = [LogisticRegression(),\n",
    "        SVC(kernel = 'linear'),\n",
    "        SGDClassifier(max_iter = 100),\n",
    "        KNeighborsClassifier(), #Adding K-n for curiosty but from the last plot above in my opinion this classifier will has the more struggles than the rest\n",
    "        DecisionTreeClassifier(),\n",
    "        RandomForestClassifier(),\n",
    "        XGBClassifier()    \n",
    "        ]\n",
    "\n",
    "models = zip(names, classifiers)\n",
    "Mods = []\n",
    "AUCS = []\n",
    "\n",
    "for name, model in models:\n",
    "    model.fit(X_train_res,y_train_res)\n",
    "    accuracy = model.score(X_test, y_test)*100\n",
    "    pred = model.predict(X_test)\n",
    "    score = roc_auc_score(y_test,pred)*100\n",
    "    Mods.append(accuracy)\n",
    "    AUCS.append(score)\n",
    "    print(\"{} Accuracy: {}\".format(name, accuracy),\n",
    "         \"\\n{} Roc_auc_score: {}\".format(name, score),\"\\n\")"
   ]
  },
  {
   "cell_type": "code",
   "execution_count": 80,
   "metadata": {},
   "outputs": [
    {
     "data": {
      "text/html": [
       "<div>\n",
       "<style scoped>\n",
       "    .dataframe tbody tr th:only-of-type {\n",
       "        vertical-align: middle;\n",
       "    }\n",
       "\n",
       "    .dataframe tbody tr th {\n",
       "        vertical-align: top;\n",
       "    }\n",
       "\n",
       "    .dataframe thead th {\n",
       "        text-align: right;\n",
       "    }\n",
       "</style>\n",
       "<table border=\"1\" class=\"dataframe\">\n",
       "  <thead>\n",
       "    <tr style=\"text-align: right;\">\n",
       "      <th></th>\n",
       "      <th>Model</th>\n",
       "      <th>Accuracy</th>\n",
       "      <th>ROC_AUC_score</th>\n",
       "    </tr>\n",
       "  </thead>\n",
       "  <tbody>\n",
       "    <tr>\n",
       "      <th>6</th>\n",
       "      <td>XGBoost</td>\n",
       "      <td>85.315534</td>\n",
       "      <td>63.588961</td>\n",
       "    </tr>\n",
       "    <tr>\n",
       "      <th>0</th>\n",
       "      <td>Logistic regression</td>\n",
       "      <td>69.963592</td>\n",
       "      <td>62.732327</td>\n",
       "    </tr>\n",
       "    <tr>\n",
       "      <th>1</th>\n",
       "      <td>SVM Linear</td>\n",
       "      <td>66.019417</td>\n",
       "      <td>62.489385</td>\n",
       "    </tr>\n",
       "    <tr>\n",
       "      <th>2</th>\n",
       "      <td>SGD Classifier</td>\n",
       "      <td>66.019417</td>\n",
       "      <td>62.489385</td>\n",
       "    </tr>\n",
       "    <tr>\n",
       "      <th>5</th>\n",
       "      <td>Random Forest</td>\n",
       "      <td>81.583738</td>\n",
       "      <td>60.758152</td>\n",
       "    </tr>\n",
       "    <tr>\n",
       "      <th>3</th>\n",
       "      <td>K-nearest Neighbors</td>\n",
       "      <td>76.972087</td>\n",
       "      <td>59.525716</td>\n",
       "    </tr>\n",
       "    <tr>\n",
       "      <th>4</th>\n",
       "      <td>Decision Tree</td>\n",
       "      <td>83.828883</td>\n",
       "      <td>58.571867</td>\n",
       "    </tr>\n",
       "  </tbody>\n",
       "</table>\n",
       "</div>"
      ],
      "text/plain": [
       "                 Model   Accuracy  ROC_AUC_score\n",
       "6              XGBoost  85.315534      63.588961\n",
       "0  Logistic regression  69.963592      62.732327\n",
       "1           SVM Linear  66.019417      62.489385\n",
       "2       SGD Classifier  66.019417      62.489385\n",
       "5        Random Forest  81.583738      60.758152\n",
       "3  K-nearest Neighbors  76.972087      59.525716\n",
       "4        Decision Tree  83.828883      58.571867"
      ]
     },
     "execution_count": 80,
     "metadata": {},
     "output_type": "execute_result"
    }
   ],
   "source": [
    "d = {\"Model\":names,'Accuracy':Mods,'ROC_AUC_score':AUCS}\n",
    "df = pd.DataFrame(d)\n",
    "df.sort_values('ROC_AUC_score',ascending=False)"
   ]
  },
  {
   "cell_type": "code",
   "execution_count": 81,
   "metadata": {},
   "outputs": [
    {
     "name": "stdout",
     "output_type": "stream",
     "text": [
      "Voting Classifier: Accuracy: 81.58373786407766\n",
      "Voting Classifier: Score: 62.603803004699664\n"
     ]
    }
   ],
   "source": [
    "clf1 = XGBClassifier()\n",
    "clf2 = KNeighborsClassifier()\n",
    "clf3 = SVC(kernel='linear')\n",
    "\n",
    "ensemble = VotingClassifier(estimators = [('XGB',clf1), ('KNN',clf2), ('SVMC',clf3)], \n",
    "                            voting = 'hard', n_jobs = -1)\n",
    "ensemble.fit(X_train_res,y_train_res)\n",
    "\n",
    "accuracy_ens = ensemble.score(X_test, y_test)*100\n",
    "pred_ens = ensemble.predict(X_test)\n",
    "score_ens = roc_auc_score(y_test,pred_ens)*100\n",
    "\n",
    "print(\"Voting Classifier: Accuracy:\", accuracy_ens)\n",
    "print(\"Voting Classifier: Score:\", score_ens)"
   ]
  },
  {
   "cell_type": "code",
   "execution_count": 82,
   "metadata": {},
   "outputs": [],
   "source": [
    "xgb = XGBClassifier()\n",
    "model_xgb = xgb.fit(X_train_res,y_train_res)\n",
    "pred_xgb = model_xgb.predict(X_test)"
   ]
  },
  {
   "cell_type": "code",
   "execution_count": 83,
   "metadata": {},
   "outputs": [
    {
     "data": {
      "image/png": "[encoded data removed]",
      "text/plain": [
       "<Figure size 432x288 with 1 Axes>"
      ]
     },
     "metadata": {
      "needs_background": "light"
     },
     "output_type": "display_data"
    }
   ],
   "source": [
    "buildROC(y_test,pred_xgb)"
   ]
  },
  {
   "cell_type": "code",
   "execution_count": 84,
   "metadata": {},
   "outputs": [
    {
     "name": "stdout",
     "output_type": "stream",
     "text": [
      "              precision    recall  f1-score   support\n",
      "\n",
      "           0       0.92      0.91      0.92      2939\n",
      "           1       0.33      0.36      0.35       357\n",
      "\n",
      "    accuracy                           0.85      3296\n",
      "   macro avg       0.63      0.64      0.63      3296\n",
      "weighted avg       0.86      0.85      0.86      3296\n",
      "\n"
     ]
    }
   ],
   "source": [
    "print(classification_report(y_test,pred_xgb))"
   ]
  },
  {
   "cell_type": "code",
   "execution_count": 85,
   "metadata": {},
   "outputs": [
    {
     "data": {
      "image/png": "[encoded data removed]",
      "text/plain": [
       "<Figure size 432x288 with 1 Axes>"
      ]
     },
     "metadata": {
      "needs_background": "light"
     },
     "output_type": "display_data"
    }
   ],
   "source": [
    "cm2 = confusion_matrix(y_test,pred_xgb)\n",
    "\n",
    "ax = sns.heatmap(cm2,annot=True,fmt='.0f',cbar=False)\n",
    "plt.xlabel('Predicted')\n",
    "plt.ylabel('True');"
   ]
  },
  {
   "cell_type": "markdown",
   "metadata": {},
   "source": [
    "As we can see model on oversampled data performs very well:\n",
    "- 229 cases were classified that will not subscribe which will subscribe\n",
    "- 255 cases were classified that will subscribe which will not subscribe"
   ]
  },
  {
   "cell_type": "code",
   "execution_count": 86,
   "metadata": {},
   "outputs": [
    {
     "name": "stdout",
     "output_type": "stream",
     "text": [
      "Total costs 739.56\n",
      "Total revenue: 3,100.44 \n",
      "ROI: 419.23 %\n"
     ]
    }
   ],
   "source": [
    "fals_pos = cm2[0][1]\n",
    "true_pos = cm2[1][1]\n",
    "\n",
    "sum_pos = fals_pos + true_pos\n",
    "costs_pos = sum_pos*avg_cost\n",
    "incom_pos = true_pos*income_price\n",
    "\n",
    "reve_pos = incom_pos - costs_pos\n",
    "\n",
    "ROI2 = (incom_pos - costs_pos)/costs_pos\n",
    "\n",
    "print(\"Total costs\", f\"{round(costs_pos,2):,}\"\n",
    "    \"\\nTotal revenue:\", f\"{round(reve_pos,2):,}\",\n",
    "    \"\\nROI:\",f\"{round(ROI2*100,2):,}\",\"%\")"
   ]
  },
  {
   "cell_type": "markdown",
   "metadata": {},
   "source": [
    "As we can see there are potential benefits for applying Machine Learning to improve targeting people. The algorithm is slightly better than random choosing by 13%, is able to predict with high confidence to which person we should not call which will help to reduce costs of marketing campaigns.\n",
    "And there is space to improve by gathering a more balanced dataset. The accuracy can rise even by up to 88%. "
   ]
  }
 ],
 "metadata": {
  "kernelspec": {
   "display_name": "Python 3",
   "language": "python",
   "name": "python3"
  },
  "language_info": {
   "codemirror_mode": {
    "name": "ipython",
    "version": 3
   },
   "file_extension": ".py",
   "mimetype": "text/x-python",
   "name": "python",
   "nbconvert_exporter": "python",
   "pygments_lexer": "ipython3",
   "version": "3.7.6"
  }
 },
 "nbformat": 4,
 "nbformat_minor": 4
}
